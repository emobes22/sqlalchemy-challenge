{
 "cells": [
  {
   "cell_type": "code",
   "execution_count": 1,
   "metadata": {},
   "outputs": [],
   "source": [
    "%matplotlib inline\n",
    "from matplotlib import style\n",
    "style.use('fivethirtyeight')\n",
    "import matplotlib.pyplot as plt"
   ]
  },
  {
   "cell_type": "code",
   "execution_count": 2,
   "metadata": {},
   "outputs": [],
   "source": [
    "import numpy as np\n",
    "import pandas as pd\n"
   ]
  },
  {
   "cell_type": "code",
   "execution_count": 3,
   "metadata": {},
   "outputs": [],
   "source": [
    "import datetime as dt"
   ]
  },
  {
   "cell_type": "markdown",
   "metadata": {},
   "source": [
    "# Reflect Tables into SQLAlchemy ORM"
   ]
  },
  {
   "cell_type": "code",
   "execution_count": 4,
   "metadata": {},
   "outputs": [],
   "source": [
    "# Python SQL toolkit and Object Relational Mapper\n",
    "import sqlalchemy\n",
    "from sqlalchemy.ext.automap import automap_base\n",
    "from sqlalchemy.orm import Session\n",
    "from sqlalchemy import create_engine, func\n",
    "from sqlalchemy import create_engine, inspect\n",
    "from sqlalchemy.orm import sessionmaker, scoped_session"
   ]
  },
  {
   "cell_type": "code",
   "execution_count": 5,
   "metadata": {},
   "outputs": [],
   "source": [
    "#Create engine\n",
    "engine = create_engine(\"sqlite:///Resources/hawaii.sqlite\")\n",
    "Base = automap_base()\n",
    "#Create Engine Connection\n",
    "conn = engine.connect()\n"
   ]
  },
  {
   "cell_type": "code",
   "execution_count": 6,
   "metadata": {},
   "outputs": [
    {
     "data": {
      "text/plain": [
       "['measurement', 'station']"
      ]
     },
     "execution_count": 6,
     "metadata": {},
     "output_type": "execute_result"
    }
   ],
   "source": [
    "# reflect an existing database into a new model\n",
    "Base.prepare(engine, reflect = True)\n",
    "# reflect the tables\n",
    "Base.classes.keys()"
   ]
  },
  {
   "cell_type": "code",
   "execution_count": 7,
   "metadata": {},
   "outputs": [
    {
     "data": {
      "text/plain": [
       "['measurement', 'station']"
      ]
     },
     "execution_count": 7,
     "metadata": {},
     "output_type": "execute_result"
    }
   ],
   "source": [
    "# We can view all of the classes that automap found (use inspector)\n",
    "inspector = inspect(engine)\n",
    "inspector.get_table_names()\n"
   ]
  },
  {
   "cell_type": "code",
   "execution_count": 8,
   "metadata": {},
   "outputs": [
    {
     "name": "stdout",
     "output_type": "stream",
     "text": [
      "id INTEGER\n",
      "station TEXT\n",
      "date TEXT\n",
      "prcp FLOAT\n",
      "tobs FLOAT\n"
     ]
    }
   ],
   "source": [
    "#View columns in measurement class\n",
    "columns = inspector.get_columns('measurement')\n",
    "for c in columns:\n",
    "    print(c['name'], c['type'])"
   ]
  },
  {
   "cell_type": "code",
   "execution_count": 9,
   "metadata": {},
   "outputs": [
    {
     "name": "stdout",
     "output_type": "stream",
     "text": [
      "id INTEGER\n",
      "station TEXT\n",
      "name TEXT\n",
      "latitude FLOAT\n",
      "longitude FLOAT\n",
      "elevation FLOAT\n"
     ]
    }
   ],
   "source": [
    "#View columns in station class\n",
    "columns = inspector.get_columns('station')\n",
    "for c in columns:\n",
    "    print(c['name'], c['type'])"
   ]
  },
  {
   "cell_type": "code",
   "execution_count": 10,
   "metadata": {},
   "outputs": [
    {
     "name": "stdout",
     "output_type": "stream",
     "text": [
      "<class 'sqlalchemy.ext.automap.measurement'>\n"
     ]
    }
   ],
   "source": [
    "# Save references to each table\n",
    "Measurement = Base.classes.measurement\n",
    "Station = Base.classes.station\n",
    "print(Measurement)"
   ]
  },
  {
   "cell_type": "code",
   "execution_count": 11,
   "metadata": {},
   "outputs": [],
   "source": [
    "# Create our session (link) from Python to the DB\n",
    "session = Session(engine)"
   ]
  },
  {
   "cell_type": "code",
   "execution_count": 12,
   "metadata": {},
   "outputs": [
    {
     "data": {
      "text/plain": [
       "{'_sa_instance_state': <sqlalchemy.orm.state.InstanceState at 0x157f2372ec8>,\n",
       " 'tobs': 65.0,\n",
       " 'id': 1,\n",
       " 'date': '2010-01-01',\n",
       " 'prcp': 0.08,\n",
       " 'station': 'USC00519397'}"
      ]
     },
     "execution_count": 12,
     "metadata": {},
     "output_type": "execute_result"
    }
   ],
   "source": [
    "#display the row's columns and data in dictionary format\n",
    "first_row = session.query(Measurement).first()\n",
    "first_row.__dict__"
   ]
  },
  {
   "cell_type": "code",
   "execution_count": 13,
   "metadata": {},
   "outputs": [
    {
     "name": "stdout",
     "output_type": "stream",
     "text": [
      "('2010-01-01', 0.08)\n",
      "('2010-01-02', 0.0)\n",
      "('2010-01-03', 0.0)\n",
      "('2010-01-04', 0.0)\n",
      "('2010-01-06', None)\n",
      "('2010-01-07', 0.06)\n",
      "('2010-01-08', 0.0)\n",
      "('2010-01-09', 0.0)\n",
      "('2010-01-10', 0.0)\n",
      "('2010-01-11', 0.01)\n",
      "('2010-01-12', 0.0)\n",
      "('2010-01-14', 0.0)\n",
      "('2010-01-15', 0.0)\n",
      "('2010-01-16', 0.0)\n",
      "('2010-01-17', 0.0)\n"
     ]
    }
   ],
   "source": [
    "#Select only a couple rows from table and print\n",
    "for row in session.query(Measurement.date, Measurement.prcp).limit(15).all():\n",
    "    print(row)"
   ]
  },
  {
   "cell_type": "markdown",
   "metadata": {},
   "source": [
    "# Exploratory Climate Analysis"
   ]
  },
  {
   "cell_type": "code",
   "execution_count": 14,
   "metadata": {},
   "outputs": [
    {
     "name": "stdout",
     "output_type": "stream",
     "text": [
      "2016-08-23\n"
     ]
    }
   ],
   "source": [
    "#calculate the date 1 year ago from the last data point in the database\n",
    "#import timedelta for date calculations\n",
    "from datetime import timedelta\n",
    "#save last date and cast it as a date\n",
    "last_date = dt.date(2017, 8, 23)\n",
    "#save 365 days to do math with dates in date format\n",
    "three_six_five_days = (dt.timedelta(days=365))\n",
    "#save one year ago's date\n",
    "year_ago_date = last_date - three_six_five_days\n",
    "print(year_ago_date)\n",
    "\n",
    "\n",
    "\n"
   ]
  },
  {
   "cell_type": "code",
   "execution_count": 15,
   "metadata": {},
   "outputs": [],
   "source": [
    "#Design a query to retrieve the last 12 months of precipitation data and plot the results\n",
    "data = session.query(Measurement.date, Measurement.prcp).filter(Measurement.date>year_ago_date).all()\n"
   ]
  },
  {
   "cell_type": "code",
   "execution_count": 16,
   "metadata": {},
   "outputs": [
    {
     "data": {
      "text/plain": [
       "(array([-500.,    0.,  500., 1000., 1500., 2000., 2500.]),\n",
       " <a list of 7 Text xticklabel objects>)"
      ]
     },
     "execution_count": 16,
     "metadata": {},
     "output_type": "execute_result"
    },
    {
     "data": {
      "image/png": "[encoded data removed]",
      "text/plain": [
       "<Figure size 432x288 with 1 Axes>"
      ]
     },
     "metadata": {},
     "output_type": "display_data"
    }
   ],
   "source": [
    "# Save the query results as a Pandas DataFrame and set the index to the date column\n",
    "df = pd.DataFrame(data,columns=[\"date\",\"prcp\"])\n",
    "\n",
    "# Sort the dataframe by date\n",
    "df = df.sort_values(\"date\")\n",
    "\n",
    "# Use Pandas Plotting with Matplotlib to plot the data\n",
    "df.plot(\"date\",\"prcp\")\n",
    "plt.xticks(rotation=45)"
   ]
  },
  {
   "cell_type": "code",
   "execution_count": 17,
   "metadata": {},
   "outputs": [
    {
     "data": {
      "text/html": [
       "<div>\n",
       "<style scoped>\n",
       "    .dataframe tbody tr th:only-of-type {\n",
       "        vertical-align: middle;\n",
       "    }\n",
       "\n",
       "    .dataframe tbody tr th {\n",
       "        vertical-align: top;\n",
       "    }\n",
       "\n",
       "    .dataframe thead th {\n",
       "        text-align: right;\n",
       "    }\n",
       "</style>\n",
       "<table border=\"1\" class=\"dataframe\">\n",
       "  <thead>\n",
       "    <tr style=\"text-align: right;\">\n",
       "      <th></th>\n",
       "      <th>prcp</th>\n",
       "    </tr>\n",
       "  </thead>\n",
       "  <tbody>\n",
       "    <tr>\n",
       "      <th>count</th>\n",
       "      <td>2015.000000</td>\n",
       "    </tr>\n",
       "    <tr>\n",
       "      <th>mean</th>\n",
       "      <td>0.176462</td>\n",
       "    </tr>\n",
       "    <tr>\n",
       "      <th>std</th>\n",
       "      <td>0.460288</td>\n",
       "    </tr>\n",
       "    <tr>\n",
       "      <th>min</th>\n",
       "      <td>0.000000</td>\n",
       "    </tr>\n",
       "    <tr>\n",
       "      <th>25%</th>\n",
       "      <td>0.000000</td>\n",
       "    </tr>\n",
       "    <tr>\n",
       "      <th>50%</th>\n",
       "      <td>0.020000</td>\n",
       "    </tr>\n",
       "    <tr>\n",
       "      <th>75%</th>\n",
       "      <td>0.130000</td>\n",
       "    </tr>\n",
       "    <tr>\n",
       "      <th>max</th>\n",
       "      <td>6.700000</td>\n",
       "    </tr>\n",
       "  </tbody>\n",
       "</table>\n",
       "</div>"
      ],
      "text/plain": [
       "              prcp\n",
       "count  2015.000000\n",
       "mean      0.176462\n",
       "std       0.460288\n",
       "min       0.000000\n",
       "25%       0.000000\n",
       "50%       0.020000\n",
       "75%       0.130000\n",
       "max       6.700000"
      ]
     },
     "execution_count": 17,
     "metadata": {},
     "output_type": "execute_result"
    }
   ],
   "source": [
    "# Use Pandas to calcualte the summary statistics for the precipitation data\n",
    "df.describe()"
   ]
  },
  {
   "cell_type": "code",
   "execution_count": 43,
   "metadata": {},
   "outputs": [
    {
     "name": "stdout",
     "output_type": "stream",
     "text": [
      "[(9,)]\n"
     ]
    }
   ],
   "source": [
    "# Design a query to show how many stations are available in this dataset?\n",
    "totalstations = session.query(func.count(Station.station)).all()\n",
    "print(totalstations)"
   ]
  },
  {
   "cell_type": "code",
   "execution_count": 44,
   "metadata": {},
   "outputs": [
    {
     "name": "stdout",
     "output_type": "stream",
     "text": [
      "[(2772, 'USC00519281'), (2724, 'USC00519397'), (2709, 'USC00513117'), (2669, 'USC00519523'), (2612, 'USC00516128'), (2202, 'USC00514830'), (1979, 'USC00511918'), (1372, 'USC00517948'), (511, 'USC00518838')]\n"
     ]
    }
   ],
   "source": [
    "# What are the most active stations? (i.e. what stations have the most rows)?\n",
    "# List the stations and the counts in descending order.\n",
    "activestations = session.query(func.count(Measurement.station),Measurement.station).group_by(Measurement.station).order_by\\\n",
    "    (func.count(Measurement.station).desc()).all()\n",
    "print(activestations)"
   ]
  },
  {
   "cell_type": "code",
   "execution_count": 36,
   "metadata": {},
   "outputs": [
    {
     "name": "stdout",
     "output_type": "stream",
     "text": [
      "[(54.0, 85.0, 71.66378066378067)]\n"
     ]
    }
   ],
   "source": [
    "# Using the station id from the previous query, calculate the lowest temperature recorded, \n",
    "# highest temperature recorded, and average temperature of the most active station?\n",
    "combinedquery = session.query(func.min(Measurement.tobs),func.max(Measurement.tobs),func.avg(Measurement.tobs)).filter(Measurement.station==\"USC00519281\").all()\n",
    "minquery = session.query(func.min(Measurement.tobs)).all()\n",
    "maxquery = session.query(func.max(Measurement.tobs)).all()\n",
    "avgquery = session.query(func.avg(Measurement.tobs)).all()\n",
    "print(combinedquery)"
   ]
  },
  {
   "cell_type": "code",
   "execution_count": 46,
   "metadata": {},
   "outputs": [
    {
     "name": "stdout",
     "output_type": "stream",
     "text": [
      "[(1979, 'USC00511918'), (2709, 'USC00513117'), (2202, 'USC00514830'), (2612, 'USC00516128'), (1372, 'USC00517948'), (511, 'USC00518838'), (2772, 'USC00519281'), (2724, 'USC00519397'), (2669, 'USC00519523')]\n"
     ]
    }
   ],
   "source": [
    "##Count the number of temperature observations by station\n",
    "total_obs_per_station = session.query(func.count(Measurement.tobs),Measurement.station).group_by(Measurement.station).all()\n",
    "print(total_obs_per_station)"
   ]
  },
  {
   "cell_type": "code",
   "execution_count": 54,
   "metadata": {},
   "outputs": [
    {
     "name": "stdout",
     "output_type": "stream",
     "text": [
      "[('USC00519281',), ('USC00519281',), ('USC00519281',), ('USC00519281',), ('USC00519281',), ('USC00519281',), ('USC00519281',), ('USC00519281',), ('USC00519281',), ('USC00519281',), ('USC00519281',), ('USC00519281',), ('USC00519281',), ('USC00519281',), ('USC00519281',), ('USC00519281',), ('USC00519281',), ('USC00519281',), ('USC00519281',), ('USC00519281',), ('USC00519281',), ('USC00519281',), ('USC00519281',), ('USC00519281',), ('USC00519281',), ('USC00519281',), ('USC00519281',), ('USC00519281',), ('USC00519281',), ('USC00519281',), ('USC00519281',), ('USC00519281',), ('USC00519281',), ('USC00519281',), ('USC00519281',), ('USC00519281',), ('USC00519281',), ('USC00519281',), ('USC00519281',), ('USC00519281',), ('USC00519281',), ('USC00519281',), ('USC00519281',), ('USC00519281',), ('USC00519281',), ('USC00519281',), ('USC00519281',), ('USC00519281',), ('USC00519281',), ('USC00519281',), ('USC00519281',), ('USC00519281',), ('USC00519281',), ('USC00519281',), ('USC00519281',), ('USC00519281',), ('USC00519281',), ('USC00519281',), ('USC00519281',), ('USC00519281',), ('USC00519281',), ('USC00519281',), ('USC00519281',), ('USC00519281',), ('USC00519281',), ('USC00519281',), ('USC00519281',), ('USC00519281',), ('USC00519281',), ('USC00519281',), ('USC00519281',), ('USC00519281',), ('USC00519281',), ('USC00519281',), ('USC00519281',), ('USC00519281',), ('USC00519281',), ('USC00519281',), ('USC00519281',), ('USC00519281',), ('USC00519281',), ('USC00519281',), ('USC00519281',), ('USC00519281',), ('USC00519281',), ('USC00519281',), ('USC00519281',), ('USC00519281',), ('USC00519281',), ('USC00519281',), ('USC00519281',), ('USC00519281',), ('USC00519281',), ('USC00519281',), ('USC00519281',), ('USC00519281',), ('USC00519281',), ('USC00519281',), ('USC00519281',), ('USC00519281',), ('USC00519281',), ('USC00519281',), ('USC00519281',), ('USC00519281',), ('USC00519281',), ('USC00519281',), ('USC00519281',), ('USC00519281',), ('USC00519281',), ('USC00519281',), ('USC00519281',), ('USC00519281',), ('USC00519281',), ('USC00519281',), ('USC00519281',), ('USC00519281',), ('USC00519281',), ('USC00519281',), ('USC00519281',), ('USC00519281',), ('USC00519281',), ('USC00519281',), ('USC00519281',), ('USC00519281',), ('USC00519281',), ('USC00519281',), ('USC00519281',), ('USC00519281',), ('USC00519281',), ('USC00519281',), ('USC00519281',), ('USC00519281',), ('USC00519281',), ('USC00519281',), ('USC00519281',), ('USC00519281',), ('USC00519281',), ('USC00519281',), ('USC00519281',), ('USC00519281',), ('USC00519281',), ('USC00519281',), ('USC00519281',), ('USC00519281',), ('USC00519281',), ('USC00519281',), ('USC00519281',), ('USC00519281',), ('USC00519281',), ('USC00519281',), ('USC00519281',), ('USC00519281',), ('USC00519281',), ('USC00519281',), ('USC00519281',), ('USC00519281',), ('USC00519281',), ('USC00519281',), ('USC00519281',), ('USC00519281',), ('USC00519281',), ('USC00519281',), ('USC00519281',), ('USC00519281',), ('USC00519281',), ('USC00519281',), ('USC00519281',), ('USC00519281',), ('USC00519281',), ('USC00519281',), ('USC00519281',), ('USC00519281',), ('USC00519281',), ('USC00519281',), ('USC00519281',), ('USC00519281',), ('USC00519281',), ('USC00519281',), ('USC00519281',), ('USC00519281',), ('USC00519281',), ('USC00519281',), ('USC00519281',), ('USC00519281',), ('USC00519281',), ('USC00519281',), ('USC00519281',), ('USC00519281',), ('USC00519281',), ('USC00519281',), ('USC00519281',), ('USC00519281',), ('USC00519281',), ('USC00519281',), ('USC00519281',), ('USC00519281',), ('USC00519281',), ('USC00519281',), ('USC00519281',), ('USC00519281',), ('USC00519281',), ('USC00519281',), ('USC00519281',), ('USC00519281',), ('USC00519281',), ('USC00519281',), ('USC00519281',), ('USC00519281',), ('USC00519281',), ('USC00519281',), ('USC00519281',), ('USC00519281',), ('USC00519281',), ('USC00519281',), ('USC00519281',), ('USC00519281',), ('USC00519281',), ('USC00519281',), ('USC00519281',), ('USC00519281',), ('USC00519281',), ('USC00519281',), ('USC00519281',), ('USC00519281',), ('USC00519281',), ('USC00519281',), ('USC00519281',), ('USC00519281',), ('USC00519281',), ('USC00519281',), ('USC00519281',), ('USC00519281',), ('USC00519281',), ('USC00519281',), ('USC00519281',), ('USC00519281',), ('USC00519281',), ('USC00519281',), ('USC00519281',), ('USC00519281',), ('USC00519281',), ('USC00519281',), ('USC00519281',), ('USC00519281',), ('USC00519281',), ('USC00519281',), ('USC00519281',), ('USC00519281',), ('USC00519281',), ('USC00519281',), ('USC00519281',), ('USC00519281',), ('USC00519281',), ('USC00519281',), ('USC00519281',), ('USC00519281',), ('USC00519281',), ('USC00519281',), ('USC00519281',), ('USC00519281',), ('USC00519281',), ('USC00519281',), ('USC00519281',), ('USC00519281',), ('USC00519281',), ('USC00519281',), ('USC00519281',), ('USC00519281',), ('USC00519281',), ('USC00519281',), ('USC00519281',), ('USC00519281',), ('USC00519281',), ('USC00519281',), ('USC00519281',), ('USC00519281',), ('USC00519281',), ('USC00519281',), ('USC00519281',), ('USC00519281',), ('USC00519281',), ('USC00519281',), ('USC00519281',), ('USC00519281',), ('USC00519281',), ('USC00519281',), ('USC00519281',), ('USC00519281',), ('USC00519281',), ('USC00519281',), ('USC00519281',), ('USC00519281',), ('USC00519281',), ('USC00519281',), ('USC00519281',), ('USC00519281',), ('USC00519281',), ('USC00519281',), ('USC00519281',), ('USC00519281',), ('USC00519281',), ('USC00519281',), ('USC00519281',), ('USC00519281',), ('USC00519281',), ('USC00519281',), ('USC00519281',), ('USC00519281',), ('USC00519281',), ('USC00519281',), ('USC00519281',), ('USC00519281',), ('USC00519281',), ('USC00519281',), ('USC00519281',), ('USC00519281',), ('USC00519281',), ('USC00519281',), ('USC00519281',), ('USC00519281',), ('USC00519281',), ('USC00519281',), ('USC00519281',), ('USC00519281',), ('USC00519281',), ('USC00519281',), ('USC00519281',), ('USC00519281',), ('USC00519281',), ('USC00519281',), ('USC00519281',), ('USC00519281',), ('USC00519281',), ('USC00519281',), ('USC00519281',), ('USC00519281',), ('USC00519281',), ('USC00519281',), ('USC00519281',), ('USC00519281',), ('USC00519281',), ('USC00519281',), ('USC00519281',), ('USC00519281',), ('USC00519281',), ('USC00519281',), ('USC00519281',), ('USC00519281',), ('USC00519281',), ('USC00519281',), ('USC00519281',), ('USC00519281',), ('USC00519281',), ('USC00519281',), ('USC00519281',), ('USC00519281',), ('USC00519281',), ('USC00519281',), ('USC00519281',), ('USC00519281',), ('USC00519281',), ('USC00519281',), ('USC00519281',), ('USC00519281',), ('USC00519281',), ('USC00519281',), ('USC00519281',), ('USC00519281',), ('USC00519281',), ('USC00519281',), ('USC00519281',), ('USC00519281',), ('USC00519281',), ('USC00519281',), ('USC00519281',), ('USC00519281',), ('USC00519281',), ('USC00519281',), ('USC00519281',), ('USC00519281',), ('USC00519281',), ('USC00519281',), ('USC00519281',), ('USC00519281',), ('USC00519281',), ('USC00519281',), ('USC00519281',), ('USC00519281',), ('USC00519281',), ('USC00519281',), ('USC00519281',), ('USC00519281',), ('USC00519281',), ('USC00519281',), ('USC00519281',), ('USC00519281',), ('USC00519281',), ('USC00519281',), ('USC00519281',), ('USC00519281',), ('USC00519281',), ('USC00519281',), ('USC00519281',), ('USC00519281',), ('USC00519281',), ('USC00519281',), ('USC00519281',), ('USC00519281',), ('USC00519281',), ('USC00519281',), ('USC00519281',), ('USC00519281',), ('USC00519281',), ('USC00519281',), ('USC00519281',), ('USC00519281',), ('USC00519281',), ('USC00519281',), ('USC00519281',), ('USC00519281',), ('USC00519281',), ('USC00519281',), ('USC00519281',), ('USC00519281',), ('USC00519281',), ('USC00519281',), ('USC00519281',), ('USC00519281',), ('USC00519281',), ('USC00519281',), ('USC00519281',), ('USC00519281',), ('USC00519281',), ('USC00519281',), ('USC00519281',), ('USC00519281',), ('USC00519281',), ('USC00519281',), ('USC00519281',), ('USC00519281',), ('USC00519281',), ('USC00519281',), ('USC00519281',), ('USC00519281',), ('USC00519281',), ('USC00519281',), ('USC00519281',), ('USC00519281',), ('USC00519281',), ('USC00519281',), ('USC00519281',), ('USC00519281',), ('USC00519281',), ('USC00519281',), ('USC00519281',), ('USC00519281',), ('USC00519281',), ('USC00519281',), ('USC00519281',), ('USC00519281',), ('USC00519281',), ('USC00519281',), ('USC00519281',), ('USC00519281',), ('USC00519281',), ('USC00519281',), ('USC00519281',), ('USC00519281',), ('USC00519281',), ('USC00519281',), ('USC00519281',), ('USC00519281',), ('USC00519281',), ('USC00519281',), ('USC00519281',), ('USC00519281',), ('USC00519281',), ('USC00519281',), ('USC00519281',), ('USC00519281',), ('USC00519281',), ('USC00519281',), ('USC00519281',), ('USC00519281',), ('USC00519281',), ('USC00519281',), ('USC00519281',), ('USC00519281',), ('USC00519281',), ('USC00519281',), ('USC00519281',), ('USC00519281',), ('USC00519281',), ('USC00519281',), ('USC00519281',), ('USC00519281',), ('USC00519281',), ('USC00519281',), ('USC00519281',), ('USC00519281',), ('USC00519281',), ('USC00519281',), ('USC00519281',), ('USC00519281',), ('USC00519281',), ('USC00519281',), ('USC00519281',), ('USC00519281',), ('USC00519281',), ('USC00519281',), ('USC00519281',), ('USC00519281',), ('USC00519281',), ('USC00519281',), ('USC00519281',), ('USC00519281',), ('USC00519281',), ('USC00519281',), ('USC00519281',), ('USC00519281',), ('USC00519281',), ('USC00519281',), ('USC00519281',), ('USC00519281',), ('USC00519281',), ('USC00519281',), ('USC00519281',), ('USC00519281',), ('USC00519281',), ('USC00519281',), ('USC00519281',), ('USC00519281',), ('USC00519281',), ('USC00519281',), ('USC00519281',), ('USC00519281',), ('USC00519281',), ('USC00519281',), ('USC00519281',), ('USC00519281',), ('USC00519281',), ('USC00519281',), ('USC00519281',), ('USC00519281',), ('USC00519281',), ('USC00519281',), ('USC00519281',), ('USC00519281',), ('USC00519281',), ('USC00519281',), ('USC00519281',), ('USC00519281',), ('USC00519281',), ('USC00519281',), ('USC00519281',), ('USC00519281',), ('USC00519281',), ('USC00519281',), ('USC00519281',), ('USC00519281',), ('USC00519281',), ('USC00519281',), ('USC00519281',), ('USC00519281',), ('USC00519281',), ('USC00519281',), ('USC00519281',), ('USC00519281',), ('USC00519281',), ('USC00519281',), ('USC00519281',), ('USC00519281',), ('USC00519281',), ('USC00519281',), ('USC00519281',), ('USC00519281',), ('USC00519281',), ('USC00519281',), ('USC00519281',), ('USC00519281',), ('USC00519281',), ('USC00519281',), ('USC00519281',), ('USC00519281',), ('USC00519281',), ('USC00519281',), ('USC00519281',), ('USC00519281',), ('USC00519281',), ('USC00519281',), ('USC00519281',), ('USC00519281',), ('USC00519281',), ('USC00519281',), ('USC00519281',), ('USC00519281',), ('USC00519281',), ('USC00519281',), ('USC00519281',), ('USC00519281',), ('USC00519281',), ('USC00519281',), ('USC00519281',), ('USC00519281',), ('USC00519281',), ('USC00519281',), ('USC00519281',), ('USC00519281',), ('USC00519281',), ('USC00519281',), ('USC00519281',), ('USC00519281',), ('USC00519281',), ('USC00519281',), ('USC00519281',), ('USC00519281',), ('USC00519281',), ('USC00519281',), ('USC00519281',), ('USC00519281',), ('USC00519281',), ('USC00519281',), ('USC00519281',), ('USC00519281',), ('USC00519281',), ('USC00519281',), ('USC00519281',), ('USC00519281',), ('USC00519281',), ('USC00519281',), ('USC00519281',), ('USC00519281',), ('USC00519281',), ('USC00519281',), ('USC00519281',), ('USC00519281',), ('USC00519281',), ('USC00519281',), ('USC00519281',), ('USC00519281',), ('USC00519281',), ('USC00519281',), ('USC00519281',), ('USC00519281',), ('USC00519281',), ('USC00519281',), ('USC00519281',), ('USC00519281',), ('USC00519281',), ('USC00519281',), ('USC00519281',), ('USC00519281',), ('USC00519281',), ('USC00519281',), ('USC00519281',), ('USC00519281',), ('USC00519281',), ('USC00519281',), ('USC00519281',), ('USC00519281',), ('USC00519281',), ('USC00519281',), ('USC00519281',), ('USC00519281',), ('USC00519281',), ('USC00519281',), ('USC00519281',), ('USC00519281',), ('USC00519281',), ('USC00519281',), ('USC00519281',), ('USC00519281',), ('USC00519281',), ('USC00519281',), ('USC00519281',), ('USC00519281',), ('USC00519281',), ('USC00519281',), ('USC00519281',), ('USC00519281',), ('USC00519281',), ('USC00519281',), ('USC00519281',), ('USC00519281',), ('USC00519281',), ('USC00519281',), ('USC00519281',), ('USC00519281',), ('USC00519281',), ('USC00519281',), ('USC00519281',), ('USC00519281',), ('USC00519281',), ('USC00519281',), ('USC00519281',), ('USC00519281',), ('USC00519281',), ('USC00519281',), ('USC00519281',), ('USC00519281',), ('USC00519281',), ('USC00519281',), ('USC00519281',), ('USC00519281',), ('USC00519281',), ('USC00519281',), ('USC00519281',), ('USC00519281',), ('USC00519281',), ('USC00519281',), ('USC00519281',), ('USC00519281',), ('USC00519281',), ('USC00519281',), ('USC00519281',), ('USC00519281',), ('USC00519281',), ('USC00519281',), ('USC00519281',), ('USC00519281',), ('USC00519281',), ('USC00519281',), ('USC00519281',), ('USC00519281',), ('USC00519281',), ('USC00519281',), ('USC00519281',), ('USC00519281',), ('USC00519281',), ('USC00519281',), ('USC00519281',), ('USC00519281',), ('USC00519281',), ('USC00519281',), ('USC00519281',), ('USC00519281',), ('USC00519281',), ('USC00519281',), ('USC00519281',), ('USC00519281',), ('USC00519281',), ('USC00519281',), ('USC00519281',), ('USC00519281',), ('USC00519281',), ('USC00519281',), ('USC00519281',), ('USC00519281',), ('USC00519281',), ('USC00519281',), ('USC00519281',), ('USC00519281',), ('USC00519281',), ('USC00519281',), ('USC00519281',), ('USC00519281',), ('USC00519281',), ('USC00519281',), ('USC00519281',), ('USC00519281',), ('USC00519281',), ('USC00519281',), ('USC00519281',), ('USC00519281',), ('USC00519281',), ('USC00519281',), ('USC00519281',), ('USC00519281',), ('USC00519281',), ('USC00519281',), ('USC00519281',), ('USC00519281',), ('USC00519281',), ('USC00519281',), ('USC00519281',), ('USC00519281',), ('USC00519281',), ('USC00519281',), ('USC00519281',), ('USC00519281',), ('USC00519281',), ('USC00519281',), ('USC00519281',), ('USC00519281',), ('USC00519281',), ('USC00519281',), ('USC00519281',), ('USC00519281',), ('USC00519281',), ('USC00519281',), ('USC00519281',), ('USC00519281',), ('USC00519281',), ('USC00519281',), ('USC00519281',), ('USC00519281',), ('USC00519281',), ('USC00519281',), ('USC00519281',), ('USC00519281',), ('USC00519281',), ('USC00519281',), ('USC00519281',), ('USC00519281',), ('USC00519281',), ('USC00519281',), ('USC00519281',), ('USC00519281',), ('USC00519281',), ('USC00519281',), ('USC00519281',), ('USC00519281',), ('USC00519281',), ('USC00519281',), ('USC00519281',), ('USC00519281',), ('USC00519281',), ('USC00519281',), ('USC00519281',), ('USC00519281',), ('USC00519281',), ('USC00519281',), ('USC00519281',), ('USC00519281',), ('USC00519281',), ('USC00519281',), ('USC00519281',), ('USC00519281',), ('USC00519281',), ('USC00519281',), ('USC00519281',), ('USC00519281',), ('USC00519281',), ('USC00519281',), ('USC00519281',), ('USC00519281',), ('USC00519281',), ('USC00519281',), ('USC00519281',), ('USC00519281',), ('USC00519281',), ('USC00519281',), ('USC00519281',), ('USC00519281',), ('USC00519281',), ('USC00519281',), ('USC00519281',), ('USC00519281',), ('USC00519281',), ('USC00519281',), ('USC00519281',), ('USC00519281',), ('USC00519281',), ('USC00519281',), ('USC00519281',), ('USC00519281',), ('USC00519281',), ('USC00519281',), ('USC00519281',), ('USC00519281',), ('USC00519281',), ('USC00519281',), ('USC00519281',), ('USC00519281',), ('USC00519281',), ('USC00519281',), ('USC00519281',), ('USC00519281',), ('USC00519281',), ('USC00519281',), ('USC00519281',), ('USC00519281',), ('USC00519281',), ('USC00519281',), ('USC00519281',), ('USC00519281',), ('USC00519281',), ('USC00519281',), ('USC00519281',), ('USC00519281',), ('USC00519281',), ('USC00519281',), ('USC00519281',), ('USC00519281',), ('USC00519281',), ('USC00519281',), ('USC00519281',), ('USC00519281',), ('USC00519281',), ('USC00519281',), ('USC00519281',), ('USC00519281',), ('USC00519281',), ('USC00519281',), ('USC00519281',), ('USC00519281',), ('USC00519281',), ('USC00519281',), ('USC00519281',), ('USC00519281',), ('USC00519281',), ('USC00519281',), ('USC00519281',), ('USC00519281',), ('USC00519281',), ('USC00519281',), ('USC00519281',), ('USC00519281',), ('USC00519281',), ('USC00519281',), ('USC00519281',), ('USC00519281',), ('USC00519281',), ('USC00519281',), ('USC00519281',), ('USC00519281',), ('USC00519281',), ('USC00519281',), ('USC00519281',), ('USC00519281',), ('USC00519281',), ('USC00519281',), ('USC00519281',), ('USC00519281',), ('USC00519281',), ('USC00519281',), ('USC00519281',), ('USC00519281',), ('USC00519281',), ('USC00519281',), ('USC00519281',), ('USC00519281',), ('USC00519281',), ('USC00519281',), ('USC00519281',), ('USC00519281',), ('USC00519281',), ('USC00519281',), ('USC00519281',), ('USC00519281',), ('USC00519281',), ('USC00519281',), ('USC00519281',), ('USC00519281',), ('USC00519281',), ('USC00519281',), ('USC00519281',), ('USC00519281',), ('USC00519281',), ('USC00519281',), ('USC00519281',), ('USC00519281',), ('USC00519281',), ('USC00519281',), ('USC00519281',), ('USC00519281',), ('USC00519281',), ('USC00519281',), ('USC00519281',), ('USC00519281',), ('USC00519281',), ('USC00519281',), ('USC00519281',), ('USC00519281',), ('USC00519281',), ('USC00519281',), ('USC00519281',), ('USC00519281',), ('USC00519281',), ('USC00519281',), ('USC00519281',), ('USC00519281',), ('USC00519281',), ('USC00519281',), ('USC00519281',), ('USC00519281',), ('USC00519281',), ('USC00519281',), ('USC00519281',), ('USC00519281',), ('USC00519281',), ('USC00519281',), ('USC00519281',), ('USC00519281',), ('USC00519281',), ('USC00519281',), ('USC00519281',), ('USC00519281',), ('USC00519281',), ('USC00519281',), ('USC00519281',), ('USC00519281',), ('USC00519281',), ('USC00519281',), ('USC00519281',), ('USC00519281',), ('USC00519281',), ('USC00519281',), ('USC00519281',), ('USC00519281',), ('USC00519281',), ('USC00519281',), ('USC00519281',), ('USC00519281',), ('USC00519281',), ('USC00519281',), ('USC00519281',), ('USC00519281',), ('USC00519281',), ('USC00519281',), ('USC00519281',), ('USC00519281',), ('USC00519281',), ('USC00519281',), ('USC00519281',), ('USC00519281',), ('USC00519281',), ('USC00519281',), ('USC00519281',), ('USC00519281',), ('USC00519281',), ('USC00519281',), ('USC00519281',), ('USC00519281',), ('USC00519281',), ('USC00519281',), ('USC00519281',), ('USC00519281',), ('USC00519281',), ('USC00519281',), ('USC00519281',), ('USC00519281',), ('USC00519281',), ('USC00519281',), ('USC00519281',), ('USC00519281',), ('USC00519281',), ('USC00519281',), ('USC00519281',), ('USC00519281',), ('USC00519281',), ('USC00519281',), ('USC00519281',), ('USC00519281',), ('USC00519281',), ('USC00519281',), ('USC00519281',), ('USC00519281',), ('USC00519281',), ('USC00519281',), ('USC00519281',), ('USC00519281',), ('USC00519281',), ('USC00519281',), ('USC00519281',), ('USC00519281',), ('USC00519281',), ('USC00519281',), ('USC00519281',), ('USC00519281',), ('USC00519281',), ('USC00519281',), ('USC00519281',), ('USC00519281',), ('USC00519281',), ('USC00519281',), ('USC00519281',), ('USC00519281',), ('USC00519281',), ('USC00519281',), ('USC00519281',), ('USC00519281',), ('USC00519281',), ('USC00519281',), ('USC00519281',), ('USC00519281',), ('USC00519281',), ('USC00519281',), ('USC00519281',), ('USC00519281',), ('USC00519281',), ('USC00519281',), ('USC00519281',), ('USC00519281',), ('USC00519281',), ('USC00519281',), ('USC00519281',), ('USC00519281',), ('USC00519281',), ('USC00519281',), ('USC00519281',), ('USC00519281',), ('USC00519281',), ('USC00519281',), ('USC00519281',), ('USC00519281',), ('USC00519281',), ('USC00519281',), ('USC00519281',), ('USC00519281',), ('USC00519281',), ('USC00519281',), ('USC00519281',), ('USC00519281',), ('USC00519281',), ('USC00519281',), ('USC00519281',), ('USC00519281',), ('USC00519281',), ('USC00519281',), ('USC00519281',), ('USC00519281',), ('USC00519281',), ('USC00519281',), ('USC00519281',), ('USC00519281',), ('USC00519281',), ('USC00519281',), ('USC00519281',), ('USC00519281',), ('USC00519281',), ('USC00519281',), ('USC00519281',), ('USC00519281',), ('USC00519281',), ('USC00519281',), ('USC00519281',), ('USC00519281',), ('USC00519281',), ('USC00519281',), ('USC00519281',), ('USC00519281',), ('USC00519281',), ('USC00519281',), ('USC00519281',), ('USC00519281',), ('USC00519281',), ('USC00519281',), ('USC00519281',), ('USC00519281',), ('USC00519281',), ('USC00519281',), ('USC00519281',), ('USC00519281',), ('USC00519281',), ('USC00519281',), ('USC00519281',), ('USC00519281',), ('USC00519281',), ('USC00519281',), ('USC00519281',), ('USC00519281',), ('USC00519281',), ('USC00519281',), ('USC00519281',), ('USC00519281',), ('USC00519281',), ('USC00519281',), ('USC00519281',), ('USC00519281',), ('USC00519281',), ('USC00519281',), ('USC00519281',), ('USC00519281',), ('USC00519281',), ('USC00519281',), ('USC00519281',), ('USC00519281',), ('USC00519281',), ('USC00519281',), ('USC00519281',), ('USC00519281',), ('USC00519281',), ('USC00519281',), ('USC00519281',), ('USC00519281',), ('USC00519281',), ('USC00519281',), ('USC00519281',), ('USC00519281',), ('USC00519281',), ('USC00519281',), ('USC00519281',), ('USC00519281',), ('USC00519281',), ('USC00519281',), ('USC00519281',), ('USC00519281',), ('USC00519281',), ('USC00519281',), ('USC00519281',), ('USC00519281',), ('USC00519281',), ('USC00519281',), ('USC00519281',), ('USC00519281',), ('USC00519281',), ('USC00519281',), ('USC00519281',), ('USC00519281',), ('USC00519281',), ('USC00519281',), ('USC00519281',), ('USC00519281',), ('USC00519281',), ('USC00519281',), ('USC00519281',), ('USC00519281',), ('USC00519281',), ('USC00519281',), ('USC00519281',), ('USC00519281',), ('USC00519281',), ('USC00519281',), ('USC00519281',), ('USC00519281',), ('USC00519281',), ('USC00519281',), ('USC00519281',), ('USC00519281',), ('USC00519281',), ('USC00519281',), ('USC00519281',), ('USC00519281',), ('USC00519281',), ('USC00519281',), ('USC00519281',), ('USC00519281',), ('USC00519281',), ('USC00519281',), ('USC00519281',), ('USC00519281',), ('USC00519281',), ('USC00519281',), ('USC00519281',), ('USC00519281',), ('USC00519281',), ('USC00519281',), ('USC00519281',), ('USC00519281',), ('USC00519281',), ('USC00519281',), ('USC00519281',), ('USC00519281',), ('USC00519281',), ('USC00519281',), ('USC00519281',), ('USC00519281',), ('USC00519281',), ('USC00519281',), ('USC00519281',), ('USC00519281',), ('USC00519281',), ('USC00519281',), ('USC00519281',), ('USC00519281',), ('USC00519281',), ('USC00519281',), ('USC00519281',), ('USC00519281',), ('USC00519281',), ('USC00519281',), ('USC00519281',), ('USC00519281',), ('USC00519281',), ('USC00519281',), ('USC00519281',), ('USC00519281',), ('USC00519281',), ('USC00519281',), ('USC00519281',), ('USC00519281',), ('USC00519281',), ('USC00519281',), ('USC00519281',), ('USC00519281',), ('USC00519281',), ('USC00519281',), ('USC00519281',), ('USC00519281',), ('USC00519281',), ('USC00519281',), ('USC00519281',), ('USC00519281',), ('USC00519281',), ('USC00519281',), ('USC00519281',), ('USC00519281',), ('USC00519281',), ('USC00519281',), ('USC00519281',), ('USC00519281',), ('USC00519281',), ('USC00519281',), ('USC00519281',), ('USC00519281',), ('USC00519281',), ('USC00519281',), ('USC00519281',), ('USC00519281',), ('USC00519281',), ('USC00519281',), ('USC00519281',), ('USC00519281',), ('USC00519281',), ('USC00519281',), ('USC00519281',), ('USC00519281',), ('USC00519281',), ('USC00519281',), ('USC00519281',), ('USC00519281',), ('USC00519281',), ('USC00519281',), ('USC00519281',), ('USC00519281',), ('USC00519281',), ('USC00519281',), ('USC00519281',), ('USC00519281',), ('USC00519281',), ('USC00519281',), ('USC00519281',), ('USC00519281',), ('USC00519281',), ('USC00519281',), ('USC00519281',), ('USC00519281',), ('USC00519281',), ('USC00519281',), ('USC00519281',), ('USC00519281',), ('USC00519281',), ('USC00519281',), ('USC00519281',), ('USC00519281',), ('USC00519281',), ('USC00519281',), ('USC00519281',), ('USC00519281',), ('USC00519281',), ('USC00519281',), ('USC00519281',), ('USC00519281',), ('USC00519281',), ('USC00519281',), ('USC00519281',), ('USC00519281',), ('USC00519281',), ('USC00519281',), ('USC00519281',), ('USC00519281',), ('USC00519281',), ('USC00519281',), ('USC00519281',), ('USC00519281',), ('USC00519281',), ('USC00519281',), ('USC00519281',), ('USC00519281',), ('USC00519281',), ('USC00519281',), ('USC00519281',), ('USC00519281',), ('USC00519281',), ('USC00519281',), ('USC00519281',), ('USC00519281',), ('USC00519281',), ('USC00519281',), ('USC00519281',), ('USC00519281',), ('USC00519281',), ('USC00519281',), ('USC00519281',), ('USC00519281',), ('USC00519281',), ('USC00519281',), ('USC00519281',), ('USC00519281',), ('USC00519281',), ('USC00519281',), ('USC00519281',), ('USC00519281',), ('USC00519281',), ('USC00519281',), ('USC00519281',), ('USC00519281',), ('USC00519281',), ('USC00519281',), ('USC00519281',), ('USC00519281',), ('USC00519281',), ('USC00519281',), ('USC00519281',), ('USC00519281',), ('USC00519281',), ('USC00519281',), ('USC00519281',), ('USC00519281',), ('USC00519281',), ('USC00519281',), ('USC00519281',), ('USC00519281',), ('USC00519281',), ('USC00519281',), ('USC00519281',), ('USC00519281',), ('USC00519281',), ('USC00519281',), ('USC00519281',), ('USC00519281',), ('USC00519281',), ('USC00519281',), ('USC00519281',), ('USC00519281',), ('USC00519281',), ('USC00519281',), ('USC00519281',), ('USC00519281',), ('USC00519281',), ('USC00519281',), ('USC00519281',), ('USC00519281',), ('USC00519281',), ('USC00519281',), ('USC00519281',), ('USC00519281',), ('USC00519281',), ('USC00519281',), ('USC00519281',), ('USC00519281',), ('USC00519281',), ('USC00519281',), ('USC00519281',), ('USC00519281',), ('USC00519281',), ('USC00519281',), ('USC00519281',), ('USC00519281',), ('USC00519281',), ('USC00519281',), ('USC00519281',), ('USC00519281',), ('USC00519281',), ('USC00519281',), ('USC00519281',), ('USC00519281',), ('USC00519281',), ('USC00519281',), ('USC00519281',), ('USC00519281',), ('USC00519281',), ('USC00519281',), ('USC00519281',), ('USC00519281',), ('USC00519281',), ('USC00519281',), ('USC00519281',), ('USC00519281',), ('USC00519281',), ('USC00519281',), ('USC00519281',), ('USC00519281',), ('USC00519281',), ('USC00519281',), ('USC00519281',), ('USC00519281',), ('USC00519281',), ('USC00519281',), ('USC00519281',), ('USC00519281',), ('USC00519281',), ('USC00519281',), ('USC00519281',), ('USC00519281',), ('USC00519281',), ('USC00519281',), ('USC00519281',), ('USC00519281',), ('USC00519281',), ('USC00519281',), ('USC00519281',), ('USC00519281',), ('USC00519281',), ('USC00519281',), ('USC00519281',), ('USC00519281',), ('USC00519281',), ('USC00519281',), ('USC00519281',), ('USC00519281',), ('USC00519281',), ('USC00519281',), ('USC00519281',), ('USC00519281',), ('USC00519281',), ('USC00519281',), ('USC00519281',), ('USC00519281',), ('USC00519281',), ('USC00519281',), ('USC00519281',), ('USC00519281',), ('USC00519281',), ('USC00519281',), ('USC00519281',), ('USC00519281',), ('USC00519281',), ('USC00519281',), ('USC00519281',), ('USC00519281',), ('USC00519281',), ('USC00519281',), ('USC00519281',), ('USC00519281',), ('USC00519281',), ('USC00519281',), ('USC00519281',), ('USC00519281',), ('USC00519281',), ('USC00519281',), ('USC00519281',), ('USC00519281',), ('USC00519281',), ('USC00519281',), ('USC00519281',), ('USC00519281',), ('USC00519281',), ('USC00519281',), ('USC00519281',), ('USC00519281',), ('USC00519281',), ('USC00519281',), ('USC00519281',), ('USC00519281',), ('USC00519281',), ('USC00519281',), ('USC00519281',), ('USC00519281',), ('USC00519281',), ('USC00519281',), ('USC00519281',), ('USC00519281',), ('USC00519281',), ('USC00519281',), ('USC00519281',), ('USC00519281',), ('USC00519281',), ('USC00519281',), ('USC00519281',), ('USC00519281',), ('USC00519281',), ('USC00519281',), ('USC00519281',), ('USC00519281',), ('USC00519281',), ('USC00519281',), ('USC00519281',), ('USC00519281',), ('USC00519281',), ('USC00519281',), ('USC00519281',), ('USC00519281',), ('USC00519281',), ('USC00519281',), ('USC00519281',), ('USC00519281',), ('USC00519281',), ('USC00519281',), ('USC00519281',), ('USC00519281',), ('USC00519281',), ('USC00519281',), ('USC00519281',), ('USC00519281',), ('USC00519281',), ('USC00519281',), ('USC00519281',), ('USC00519281',), ('USC00519281',), ('USC00519281',), ('USC00519281',), ('USC00519281',), ('USC00519281',), ('USC00519281',), ('USC00519281',), ('USC00519281',), ('USC00519281',), ('USC00519281',), ('USC00519281',), ('USC00519281',), ('USC00519281',), ('USC00519281',), ('USC00519281',), ('USC00519281',), ('USC00519281',), ('USC00519281',), ('USC00519281',), ('USC00519281',), ('USC00519281',), ('USC00519281',), ('USC00519281',), ('USC00519281',), ('USC00519281',), ('USC00519281',), ('USC00519281',), ('USC00519281',), ('USC00519281',), ('USC00519281',), ('USC00519281',), ('USC00519281',), ('USC00519281',), ('USC00519281',), ('USC00519281',), ('USC00519281',), ('USC00519281',), ('USC00519281',), ('USC00519281',), ('USC00519281',), ('USC00519281',), ('USC00519281',), ('USC00519281',), ('USC00519281',), ('USC00519281',), ('USC00519281',), ('USC00519281',), ('USC00519281',), ('USC00519281',), ('USC00519281',), ('USC00519281',), ('USC00519281',), ('USC00519281',), ('USC00519281',), ('USC00519281',), ('USC00519281',), ('USC00519281',), ('USC00519281',), ('USC00519281',), ('USC00519281',), ('USC00519281',), ('USC00519281',), ('USC00519281',), ('USC00519281',), ('USC00519281',), ('USC00519281',), ('USC00519281',), ('USC00519281',), ('USC00519281',), ('USC00519281',), ('USC00519281',), ('USC00519281',), ('USC00519281',), ('USC00519281',), ('USC00519281',), ('USC00519281',), ('USC00519281',), ('USC00519281',), ('USC00519281',), ('USC00519281',), ('USC00519281',), ('USC00519281',), ('USC00519281',), ('USC00519281',), ('USC00519281',), ('USC00519281',), ('USC00519281',), ('USC00519281',), ('USC00519281',), ('USC00519281',), ('USC00519281',), ('USC00519281',), ('USC00519281',), ('USC00519281',), ('USC00519281',), ('USC00519281',), ('USC00519281',), ('USC00519281',), ('USC00519281',), ('USC00519281',), ('USC00519281',), ('USC00519281',), ('USC00519281',), ('USC00519281',), ('USC00519281',), ('USC00519281',), ('USC00519281',), ('USC00519281',), ('USC00519281',), ('USC00519281',), ('USC00519281',), ('USC00519281',), ('USC00519281',), ('USC00519281',), ('USC00519281',), ('USC00519281',), ('USC00519281',), ('USC00519281',), ('USC00519281',), ('USC00519281',), ('USC00519281',), ('USC00519281',), ('USC00519281',), ('USC00519281',), ('USC00519281',), ('USC00519281',), ('USC00519281',), ('USC00519281',), ('USC00519281',), ('USC00519281',), ('USC00519281',), ('USC00519281',), ('USC00519281',), ('USC00519281',), ('USC00519281',), ('USC00519281',), ('USC00519281',), ('USC00519281',), ('USC00519281',), ('USC00519281',), ('USC00519281',), ('USC00519281',), ('USC00519281',), ('USC00519281',), ('USC00519281',), ('USC00519281',), ('USC00519281',), ('USC00519281',), ('USC00519281',), ('USC00519281',), ('USC00519281',), ('USC00519281',), ('USC00519281',), ('USC00519281',), ('USC00519281',), ('USC00519281',), ('USC00519281',), ('USC00519281',), ('USC00519281',), ('USC00519281',), ('USC00519281',), ('USC00519281',), ('USC00519281',), ('USC00519281',), ('USC00519281',), ('USC00519281',), ('USC00519281',), ('USC00519281',), ('USC00519281',), ('USC00519281',), ('USC00519281',), ('USC00519281',), ('USC00519281',), ('USC00519281',), ('USC00519281',), ('USC00519281',), ('USC00519281',), ('USC00519281',), ('USC00519281',), ('USC00519281',), ('USC00519281',), ('USC00519281',), ('USC00519281',), ('USC00519281',), ('USC00519281',), ('USC00519281',), ('USC00519281',), ('USC00519281',), ('USC00519281',), ('USC00519281',), ('USC00519281',), ('USC00519281',), ('USC00519281',), ('USC00519281',), ('USC00519281',), ('USC00519281',), ('USC00519281',), ('USC00519281',), ('USC00519281',), ('USC00519281',), ('USC00519281',), ('USC00519281',), ('USC00519281',), ('USC00519281',), ('USC00519281',), ('USC00519281',), ('USC00519281',), ('USC00519281',), ('USC00519281',), ('USC00519281',), ('USC00519281',), ('USC00519281',), ('USC00519281',), ('USC00519281',), ('USC00519281',), ('USC00519281',), ('USC00519281',), ('USC00519281',), ('USC00519281',), ('USC00519281',), ('USC00519281',), ('USC00519281',), ('USC00519281',), ('USC00519281',), ('USC00519281',), ('USC00519281',), ('USC00519281',), ('USC00519281',), ('USC00519281',), ('USC00519281',), ('USC00519281',), ('USC00519281',), ('USC00519281',), ('USC00519281',), ('USC00519281',), ('USC00519281',), ('USC00519281',), ('USC00519281',), ('USC00519281',), ('USC00519281',), ('USC00519281',), ('USC00519281',), ('USC00519281',), ('USC00519281',), ('USC00519281',), ('USC00519281',), ('USC00519281',), ('USC00519281',), ('USC00519281',), ('USC00519281',), ('USC00519281',), ('USC00519281',), ('USC00519281',), ('USC00519281',), ('USC00519281',), ('USC00519281',), ('USC00519281',), ('USC00519281',), ('USC00519281',), ('USC00519281',), ('USC00519281',), ('USC00519281',), ('USC00519281',), ('USC00519281',), ('USC00519281',), ('USC00519281',), ('USC00519281',), ('USC00519281',), ('USC00519281',), ('USC00519281',), ('USC00519281',), ('USC00519281',), ('USC00519281',), ('USC00519281',), ('USC00519281',), ('USC00519281',), ('USC00519281',), ('USC00519281',), ('USC00519281',), ('USC00519281',), ('USC00519281',), ('USC00519281',), ('USC00519281',), ('USC00519281',), ('USC00519281',), ('USC00519281',), ('USC00519281',), ('USC00519281',), ('USC00519281',), ('USC00519281',), ('USC00519281',), ('USC00519281',), ('USC00519281',), ('USC00519281',), ('USC00519281',), ('USC00519281',), ('USC00519281',), ('USC00519281',), ('USC00519281',), ('USC00519281',), ('USC00519281',), ('USC00519281',), ('USC00519281',), ('USC00519281',), ('USC00519281',), ('USC00519281',), ('USC00519281',), ('USC00519281',), ('USC00519281',), ('USC00519281',), ('USC00519281',), ('USC00519281',), ('USC00519281',), ('USC00519281',), ('USC00519281',), ('USC00519281',), ('USC00519281',), ('USC00519281',), ('USC00519281',), ('USC00519281',), ('USC00519281',), ('USC00519281',), ('USC00519281',), ('USC00519281',), ('USC00519281',), ('USC00519281',), ('USC00519281',), ('USC00519281',), ('USC00519281',), ('USC00519281',), ('USC00519281',), ('USC00519281',), ('USC00519281',), ('USC00519281',), ('USC00519281',), ('USC00519281',), ('USC00519281',), ('USC00519281',), ('USC00519281',), ('USC00519281',), ('USC00519281',), ('USC00519281',), ('USC00519281',), ('USC00519281',), ('USC00519281',), ('USC00519281',), ('USC00519281',), ('USC00519281',), ('USC00519281',), ('USC00519281',), ('USC00519281',), ('USC00519281',), ('USC00519281',), ('USC00519281',), ('USC00519281',), ('USC00519281',), ('USC00519281',), ('USC00519281',), ('USC00519281',), ('USC00519281',), ('USC00519281',), ('USC00519281',), ('USC00519281',), ('USC00519281',), ('USC00519281',), ('USC00519281',), ('USC00519281',), ('USC00519281',), ('USC00519281',), ('USC00519281',), ('USC00519281',), ('USC00519281',), ('USC00519281',), ('USC00519281',), ('USC00519281',), ('USC00519281',), ('USC00519281',), ('USC00519281',), ('USC00519281',), ('USC00519281',), ('USC00519281',), ('USC00519281',), ('USC00519281',), ('USC00519281',), ('USC00519281',), ('USC00519281',), ('USC00519281',), ('USC00519281',), ('USC00519281',), ('USC00519281',), ('USC00519281',), ('USC00519281',), ('USC00519281',), ('USC00519281',), ('USC00519281',), ('USC00519281',), ('USC00519281',), ('USC00519281',), ('USC00519281',), ('USC00519281',), ('USC00519281',), ('USC00519281',), ('USC00519281',), ('USC00519281',), ('USC00519281',), ('USC00519281',), ('USC00519281',), ('USC00519281',), ('USC00519281',), ('USC00519281',), ('USC00519281',), ('USC00519281',), ('USC00519281',), ('USC00519281',), ('USC00519281',), ('USC00519281',), ('USC00519281',), ('USC00519281',), ('USC00519281',), ('USC00519281',), ('USC00519281',), ('USC00519281',), ('USC00519281',), ('USC00519281',), ('USC00519281',), ('USC00519281',), ('USC00519281',), ('USC00519281',), ('USC00519281',), ('USC00519281',), ('USC00519281',), ('USC00519281',), ('USC00519281',), ('USC00519281',), ('USC00519281',), ('USC00519281',), ('USC00519281',), ('USC00519281',), ('USC00519281',), ('USC00519281',), ('USC00519281',), ('USC00519281',), ('USC00519281',), ('USC00519281',), ('USC00519281',), ('USC00519281',), ('USC00519281',), ('USC00519281',), ('USC00519281',), ('USC00519281',), ('USC00519281',), ('USC00519281',), ('USC00519281',), ('USC00519281',), ('USC00519281',), ('USC00519281',), ('USC00519281',), ('USC00519281',), ('USC00519281',), ('USC00519281',), ('USC00519281',), ('USC00519281',), ('USC00519281',), ('USC00519281',), ('USC00519281',), ('USC00519281',), ('USC00519281',), ('USC00519281',), ('USC00519281',), ('USC00519281',), ('USC00519281',), ('USC00519281',), ('USC00519281',), ('USC00519281',), ('USC00519281',), ('USC00519281',), ('USC00519281',), ('USC00519281',), ('USC00519281',), ('USC00519281',), ('USC00519281',), ('USC00519281',), ('USC00519281',), ('USC00519281',), ('USC00519281',), ('USC00519281',), ('USC00519281',), ('USC00519281',), ('USC00519281',), ('USC00519281',), ('USC00519281',), ('USC00519281',), ('USC00519281',), ('USC00519281',), ('USC00519281',), ('USC00519281',), ('USC00519281',), ('USC00519281',), ('USC00519281',), ('USC00519281',), ('USC00519281',), ('USC00519281',), ('USC00519281',), ('USC00519281',), ('USC00519281',), ('USC00519281',), ('USC00519281',), ('USC00519281',), ('USC00519281',), ('USC00519281',), ('USC00519281',), ('USC00519281',), ('USC00519281',), ('USC00519281',), ('USC00519281',), ('USC00519281',), ('USC00519281',), ('USC00519281',), ('USC00519281',), ('USC00519281',), ('USC00519281',), ('USC00519281',), ('USC00519281',), ('USC00519281',), ('USC00519281',), ('USC00519281',), ('USC00519281',), ('USC00519281',), ('USC00519281',), ('USC00519281',), ('USC00519281',), ('USC00519281',), ('USC00519281',), ('USC00519281',), ('USC00519281',), ('USC00519281',), ('USC00519281',), ('USC00519281',), ('USC00519281',), ('USC00519281',), ('USC00519281',), ('USC00519281',), ('USC00519281',), ('USC00519281',), ('USC00519281',), ('USC00519281',), ('USC00519281',), ('USC00519281',), ('USC00519281',), ('USC00519281',), ('USC00519281',), ('USC00519281',), ('USC00519281',), ('USC00519281',), ('USC00519281',), ('USC00519281',), ('USC00519281',), ('USC00519281',), ('USC00519281',), ('USC00519281',), ('USC00519281',), ('USC00519281',), ('USC00519281',), ('USC00519281',), ('USC00519281',), ('USC00519281',), ('USC00519281',), ('USC00519281',), ('USC00519281',), ('USC00519281',), ('USC00519281',), ('USC00519281',), ('USC00519281',), ('USC00519281',), ('USC00519281',), ('USC00519281',), ('USC00519281',), ('USC00519281',), ('USC00519281',), ('USC00519281',), ('USC00519281',), ('USC00519281',), ('USC00519281',), ('USC00519281',), ('USC00519281',), ('USC00519281',), ('USC00519281',), ('USC00519281',), ('USC00519281',), ('USC00519281',), ('USC00519281',), ('USC00519281',), ('USC00519281',), ('USC00519281',), ('USC00519281',), ('USC00519281',), ('USC00519281',), ('USC00519281',), ('USC00519281',), ('USC00519281',), ('USC00519281',), ('USC00519281',), ('USC00519281',), ('USC00519281',), ('USC00519281',), ('USC00519281',), ('USC00519281',), ('USC00519281',), ('USC00519281',), ('USC00519281',), ('USC00519281',), ('USC00519281',), ('USC00519281',), ('USC00519281',), ('USC00519281',), ('USC00519281',), ('USC00519281',), ('USC00519281',), ('USC00519281',), ('USC00519281',), ('USC00519281',), ('USC00519281',), ('USC00519281',), ('USC00519281',), ('USC00519281',), ('USC00519281',), ('USC00519281',), ('USC00519281',), ('USC00519281',), ('USC00519281',), ('USC00519281',), ('USC00519281',), ('USC00519281',), ('USC00519281',), ('USC00519281',), ('USC00519281',), ('USC00519281',), ('USC00519281',), ('USC00519281',), ('USC00519281',), ('USC00519281',), ('USC00519281',), ('USC00519281',), ('USC00519281',), ('USC00519281',), ('USC00519281',), ('USC00519281',), ('USC00519281',), ('USC00519281',), ('USC00519281',), ('USC00519281',), ('USC00519281',), ('USC00519281',), ('USC00519281',), ('USC00519281',), ('USC00519281',), ('USC00519281',), ('USC00519281',), ('USC00519281',), ('USC00519281',), ('USC00519281',), ('USC00519281',), ('USC00519281',), ('USC00519281',), ('USC00519281',), ('USC00519281',), ('USC00519281',), ('USC00519281',), ('USC00519281',), ('USC00519281',), ('USC00519281',), ('USC00519281',), ('USC00519281',), ('USC00519281',), ('USC00519281',), ('USC00519281',), ('USC00519281',), ('USC00519281',), ('USC00519281',), ('USC00519281',), ('USC00519281',), ('USC00519281',), ('USC00519281',), ('USC00519281',), ('USC00519281',), ('USC00519281',), ('USC00519281',), ('USC00519281',), ('USC00519281',), ('USC00519281',), ('USC00519281',), ('USC00519281',), ('USC00519281',), ('USC00519281',), ('USC00519281',), ('USC00519281',), ('USC00519281',), ('USC00519281',), ('USC00519281',), ('USC00519281',), ('USC00519281',), ('USC00519281',), ('USC00519281',), ('USC00519281',), ('USC00519281',), ('USC00519281',), ('USC00519281',), ('USC00519281',), ('USC00519281',), ('USC00519281',), ('USC00519281',), ('USC00519281',), ('USC00519281',), ('USC00519281',), ('USC00519281',), ('USC00519281',), ('USC00519281',), ('USC00519281',), ('USC00519281',), ('USC00519281',), ('USC00519281',), ('USC00519281',), ('USC00519281',), ('USC00519281',), ('USC00519281',), ('USC00519281',), ('USC00519281',), ('USC00519281',), ('USC00519281',), ('USC00519281',), ('USC00519281',), ('USC00519281',), ('USC00519281',), ('USC00519281',), ('USC00519281',), ('USC00519281',), ('USC00519281',), ('USC00519281',), ('USC00519281',), ('USC00519281',), ('USC00519281',), ('USC00519281',), ('USC00519281',), ('USC00519281',), ('USC00519281',), ('USC00519281',), ('USC00519281',), ('USC00519281',), ('USC00519281',), ('USC00519281',), ('USC00519281',), ('USC00519281',), ('USC00519281',), ('USC00519281',), ('USC00519281',), ('USC00519281',), ('USC00519281',), ('USC00519281',), ('USC00519281',), ('USC00519281',), ('USC00519281',), ('USC00519281',), ('USC00519281',), ('USC00519281',), ('USC00519281',), ('USC00519281',), ('USC00519281',), ('USC00519281',), ('USC00519281',), ('USC00519281',), ('USC00519281',), ('USC00519281',), ('USC00519281',), ('USC00519281',), ('USC00519281',), ('USC00519281',), ('USC00519281',), ('USC00519281',), ('USC00519281',), ('USC00519281',), ('USC00519281',), ('USC00519281',), ('USC00519281',), ('USC00519281',), ('USC00519281',), ('USC00519281',), ('USC00519281',), ('USC00519281',), ('USC00519281',), ('USC00519281',), ('USC00519281',), ('USC00519281',), ('USC00519281',), ('USC00519281',), ('USC00519281',), ('USC00519281',), ('USC00519281',), ('USC00519281',), ('USC00519281',), ('USC00519281',), ('USC00519281',), ('USC00519281',), ('USC00519281',), ('USC00519281',), ('USC00519281',), ('USC00519281',), ('USC00519281',), ('USC00519281',), ('USC00519281',), ('USC00519281',), ('USC00519281',), ('USC00519281',), ('USC00519281',), ('USC00519281',), ('USC00519281',), ('USC00519281',), ('USC00519281',), ('USC00519281',), ('USC00519281',), ('USC00519281',), ('USC00519281',), ('USC00519281',), ('USC00519281',), ('USC00519281',), ('USC00519281',), ('USC00519281',), ('USC00519281',), ('USC00519281',), ('USC00519281',), ('USC00519281',), ('USC00519281',), ('USC00519281',), ('USC00519281',), ('USC00519281',), ('USC00519281',), ('USC00519281',), ('USC00519281',), ('USC00519281',), ('USC00519281',), ('USC00519281',), ('USC00519281',), ('USC00519281',), ('USC00519281',), ('USC00519281',), ('USC00519281',), ('USC00519281',), ('USC00519281',), ('USC00519281',), ('USC00519281',), ('USC00519281',), ('USC00519281',), ('USC00519281',), ('USC00519281',), ('USC00519281',), ('USC00519281',), ('USC00519281',), ('USC00519281',), ('USC00519281',), ('USC00519281',), ('USC00519281',), ('USC00519281',), ('USC00519281',), ('USC00519281',), ('USC00519281',), ('USC00519281',), ('USC00519281',), ('USC00519281',), ('USC00519281',), ('USC00519281',), ('USC00519281',), ('USC00519281',), ('USC00519281',), ('USC00519281',), ('USC00519281',), ('USC00519281',), ('USC00519281',), ('USC00519281',), ('USC00519281',), ('USC00519281',), ('USC00519281',), ('USC00519281',), ('USC00519281',), ('USC00519281',), ('USC00519281',), ('USC00519281',), ('USC00519281',), ('USC00519281',), ('USC00519281',), ('USC00519281',), ('USC00519281',), ('USC00519281',), ('USC00519281',), ('USC00519281',), ('USC00519281',), ('USC00519281',), ('USC00519281',), ('USC00519281',), ('USC00519281',), ('USC00519281',), ('USC00519281',), ('USC00519281',), ('USC00519281',), ('USC00519281',), ('USC00519281',), ('USC00519281',), ('USC00519281',), ('USC00519281',), ('USC00519281',), ('USC00519281',), ('USC00519281',), ('USC00519281',), ('USC00519281',), ('USC00519281',), ('USC00519281',), ('USC00519281',), ('USC00519281',), ('USC00519281',), ('USC00519281',), ('USC00519281',), ('USC00519281',), ('USC00519281',), ('USC00519281',), ('USC00519281',), ('USC00519281',), ('USC00519281',), ('USC00519281',), ('USC00519281',), ('USC00519281',), ('USC00519281',), ('USC00519281',), ('USC00519281',), ('USC00519281',), ('USC00519281',), ('USC00519281',), ('USC00519281',), ('USC00519281',), ('USC00519281',), ('USC00519281',), ('USC00519281',), ('USC00519281',), ('USC00519281',), ('USC00519281',), ('USC00519281',), ('USC00519281',), ('USC00519281',), ('USC00519281',), ('USC00519281',), ('USC00519281',), ('USC00519281',), ('USC00519281',), ('USC00519281',), ('USC00519281',), ('USC00519281',), ('USC00519281',), ('USC00519281',), ('USC00519281',), ('USC00519281',), ('USC00519281',), ('USC00519281',), ('USC00519281',), ('USC00519281',), ('USC00519281',), ('USC00519281',), ('USC00519281',), ('USC00519281',), ('USC00519281',), ('USC00519281',), ('USC00519281',), ('USC00519281',), ('USC00519281',), ('USC00519281',), ('USC00519281',), ('USC00519281',), ('USC00519281',), ('USC00519281',), ('USC00519281',), ('USC00519281',), ('USC00519281',), ('USC00519281',), ('USC00519281',), ('USC00519281',), ('USC00519281',), ('USC00519281',), ('USC00519281',), ('USC00519281',), ('USC00519281',), ('USC00519281',), ('USC00519281',), ('USC00519281',), ('USC00519281',), ('USC00519281',), ('USC00519281',), ('USC00519281',), ('USC00519281',), ('USC00519281',), ('USC00519281',), ('USC00519281',), ('USC00519281',), ('USC00519281',), ('USC00519281',), ('USC00519281',), ('USC00519281',), ('USC00519281',), ('USC00519281',), ('USC00519281',), ('USC00519281',), ('USC00519281',), ('USC00519281',), ('USC00519281',), ('USC00519281',), ('USC00519281',), ('USC00519281',), ('USC00519281',), ('USC00519281',), ('USC00519281',), ('USC00519281',), ('USC00519281',), ('USC00519281',), ('USC00519281',), ('USC00519281',), ('USC00519281',), ('USC00519281',), ('USC00519281',), ('USC00519281',), ('USC00519281',), ('USC00519281',), ('USC00519281',), ('USC00519281',), ('USC00519281',), ('USC00519281',), ('USC00519281',), ('USC00519281',), ('USC00519281',), ('USC00519281',), ('USC00519281',), ('USC00519281',), ('USC00519281',), ('USC00519281',), ('USC00519281',), ('USC00519281',), ('USC00519281',), ('USC00519281',), ('USC00519281',), ('USC00519281',), ('USC00519281',), ('USC00519281',), ('USC00519281',), ('USC00519281',), ('USC00519281',), ('USC00519281',), ('USC00519281',), ('USC00519281',), ('USC00519281',), ('USC00519281',), ('USC00519281',), ('USC00519281',), ('USC00519281',), ('USC00519281',), ('USC00519281',), ('USC00519281',), ('USC00519281',), ('USC00519281',), ('USC00519281',), ('USC00519281',), ('USC00519281',), ('USC00519281',), ('USC00519281',), ('USC00519281',), ('USC00519281',), ('USC00519281',), ('USC00519281',), ('USC00519281',), ('USC00519281',), ('USC00519281',), ('USC00519281',), ('USC00519281',), ('USC00519281',), ('USC00519281',), ('USC00519281',), ('USC00519281',), ('USC00519281',), ('USC00519281',), ('USC00519281',), ('USC00519281',), ('USC00519281',), ('USC00519281',), ('USC00519281',), ('USC00519281',), ('USC00519281',), ('USC00519281',), ('USC00519281',), ('USC00519281',), ('USC00519281',), ('USC00519281',), ('USC00519281',), ('USC00519281',), ('USC00519281',), ('USC00519281',), ('USC00519281',), ('USC00519281',), ('USC00519281',), ('USC00519281',), ('USC00519281',), ('USC00519281',), ('USC00519281',), ('USC00519281',), ('USC00519281',), ('USC00519281',), ('USC00519281',), ('USC00519281',), ('USC00519281',), ('USC00519281',), ('USC00519281',), ('USC00519281',), ('USC00519281',), ('USC00519281',), ('USC00519281',), ('USC00519281',), ('USC00519281',), ('USC00519281',), ('USC00519281',), ('USC00519281',), ('USC00519281',), ('USC00519281',), ('USC00519281',), ('USC00519281',), ('USC00519281',), ('USC00519281',), ('USC00519281',), ('USC00519281',), ('USC00519281',), ('USC00519281',), ('USC00519281',), ('USC00519281',), ('USC00519281',), ('USC00519281',), ('USC00519281',), ('USC00519281',), ('USC00519281',), ('USC00519281',), ('USC00519281',), ('USC00519281',), ('USC00519281',), ('USC00519281',), ('USC00519281',), ('USC00519281',), ('USC00519281',), ('USC00519281',), ('USC00519281',), ('USC00519281',), ('USC00519281',), ('USC00519281',), ('USC00519281',), ('USC00519281',), ('USC00519281',), ('USC00519281',), ('USC00519281',), ('USC00519281',), ('USC00519281',), ('USC00519281',), ('USC00519281',), ('USC00519281',), ('USC00519281',), ('USC00519281',), ('USC00519281',), ('USC00519281',), ('USC00519281',), ('USC00519281',), ('USC00519281',), ('USC00519281',), ('USC00519281',), ('USC00519281',), ('USC00519281',), ('USC00519281',), ('USC00519281',), ('USC00519281',), ('USC00519281',), ('USC00519281',), ('USC00519281',), ('USC00519281',), ('USC00519281',), ('USC00519281',), ('USC00519281',), ('USC00519281',), ('USC00519281',), ('USC00519281',), ('USC00519281',), ('USC00519281',), ('USC00519281',), ('USC00519281',), ('USC00519281',), ('USC00519281',)]\n"
     ]
    }
   ],
   "source": [
    "# Choose the station with the highest number of temperature observations.\n",
    "#USC00519281\n",
    "data = session.query(Measurement.station).filter(Measurement.station==\"USC00519281\").all()\n",
    "print(data)\n",
    "\n",
    "# Query the last 12 months of temperature observation data for this station and plot the results as a histogram\n",
    "data = session.query(Measurement.tobs).filter(Measurement.date>=year_ago_date).all()\n"
   ]
  },
  {
   "cell_type": "markdown",
   "metadata": {},
   "source": [
    "## Bonus Challenge Assignment"
   ]
  },
  {
   "cell_type": "code",
   "execution_count": 22,
   "metadata": {},
   "outputs": [
    {
     "name": "stdout",
     "output_type": "stream",
     "text": [
      "[(62.0, 69.57142857142857, 74.0)]\n"
     ]
    }
   ],
   "source": [
    "# This function called `calc_temps` will accept start date and end date in the format '%Y-%m-%d' \n",
    "# and return the minimum, average, and maximum temperatures for that range of dates\n",
    "def calc_temps(start_date, end_date):\n",
    "    \"\"\"TMIN, TAVG, and TMAX for a list of dates.\n",
    "    \n",
    "    Args:\n",
    "        start_date (string): A date string in the format %Y-%m-%d\n",
    "        end_date (string): A date string in the format %Y-%m-%d\n",
    "        \n",
    "    Returns:\n",
    "        TMIN, TAVE, and TMAX\n",
    "    \"\"\"\n",
    "    \n",
    "    return session.query(func.min(Measurement.tobs), func.avg(Measurement.tobs), func.max(Measurement.tobs)).\\\n",
    "        filter(Measurement.date >= start_date).filter(Measurement.date <= end_date).all()\n",
    "\n",
    "# function usage example\n",
    "print(calc_temps('2012-02-28', '2012-03-05'))"
   ]
  },
  {
   "cell_type": "code",
   "execution_count": 23,
   "metadata": {},
   "outputs": [],
   "source": [
    "# Use your previous function `calc_temps` to calculate the tmin, tavg, and tmax \n",
    "# for your trip using the previous year's data for those same dates.\n"
   ]
  },
  {
   "cell_type": "code",
   "execution_count": 24,
   "metadata": {},
   "outputs": [],
   "source": [
    "# Plot the results from your previous query as a bar chart. \n",
    "# Use \"Trip Avg Temp\" as your Title\n",
    "# Use the average temperature for the y value\n",
    "# Use the peak-to-peak (tmax-tmin) value as the y error bar (yerr)\n"
   ]
  },
  {
   "cell_type": "code",
   "execution_count": 25,
   "metadata": {},
   "outputs": [],
   "source": [
    "# Calculate the total amount of rainfall per weather station for your trip dates using the previous year's matching dates.\n",
    "# Sort this in descending order by precipitation amount and list the station, name, latitude, longitude, and elevation\n",
    "\n"
   ]
  },
  {
   "cell_type": "code",
   "execution_count": 26,
   "metadata": {},
   "outputs": [
    {
     "data": {
      "text/plain": [
       "[(62.0, 69.15384615384616, 77.0)]"
      ]
     },
     "execution_count": 26,
     "metadata": {},
     "output_type": "execute_result"
    }
   ],
   "source": [
    "# Create a query that will calculate the daily normals \n",
    "# (i.e. the averages for tmin, tmax, and tavg for all historic data matching a specific month and day)\n",
    "\n",
    "def daily_normals(date):\n",
    "    \"\"\"Daily Normals.\n",
    "    \n",
    "    Args:\n",
    "        date (str): A date string in the format '%m-%d'\n",
    "        \n",
    "    Returns:\n",
    "        A list of tuples containing the daily normals, tmin, tavg, and tmax\n",
    "    \n",
    "    \"\"\"\n",
    "    \n",
    "    sel = [func.min(Measurement.tobs), func.avg(Measurement.tobs), func.max(Measurement.tobs)]\n",
    "    return session.query(*sel).filter(func.strftime(\"%m-%d\", Measurement.date) == date).all()\n",
    "    \n",
    "daily_normals(\"01-01\")"
   ]
  },
  {
   "cell_type": "code",
   "execution_count": 27,
   "metadata": {},
   "outputs": [],
   "source": [
    "# calculate the daily normals for your trip\n",
    "# push each tuple of calculations into a list called `normals`\n",
    "\n",
    "# Set the start and end date of the trip\n",
    "\n",
    "# Use the start and end date to create a range of dates\n",
    "\n",
    "# Stip off the year and save a list of %m-%d strings\n",
    "\n",
    "# Loop through the list of %m-%d strings and calculate the normals for each date\n"
   ]
  },
  {
   "cell_type": "code",
   "execution_count": 28,
   "metadata": {},
   "outputs": [],
   "source": [
    "# Load the previous query results into a Pandas DataFrame and add the `trip_dates` range as the `date` index\n"
   ]
  },
  {
   "cell_type": "code",
   "execution_count": 29,
   "metadata": {},
   "outputs": [],
   "source": [
    "# Plot the daily normals as an area plot with `stacked=False`\n"
   ]
  }
 ],
 "metadata": {
  "kernel_info": {
   "name": "python3"
  },
  "kernelspec": {
   "display_name": "Python 3",
   "language": "python",
   "name": "python3"
  },
  "language_info": {
   "codemirror_mode": {
    "name": "ipython",
    "version": 3
   },
   "file_extension": ".py",
   "mimetype": "text/x-python",
   "name": "python",
   "nbconvert_exporter": "python",
   "pygments_lexer": "ipython3",
   "version": "3.7.6"
  },
  "nteract": {
   "version": "0.12.3"
  },
  "varInspector": {
   "cols": {
    "lenName": 16,
    "lenType": 16,
    "lenVar": 40
   },
   "kernels_config": {
    "python": {
     "delete_cmd_postfix": "",
     "delete_cmd_prefix": "del ",
     "library": "var_list.py",
     "varRefreshCmd": "print(var_dic_list())"
    },
    "r": {
     "delete_cmd_postfix": ") ",
     "delete_cmd_prefix": "rm(",
     "library": "var_list.r",
     "varRefreshCmd": "cat(var_dic_list()) "
    }
   },
   "types_to_exclude": [
    "module",
    "function",
    "builtin_function_or_method",
    "instance",
    "_Feature"
   ],
   "window_display": false
  }
 },
 "nbformat": 4,
 "nbformat_minor": 2
}
